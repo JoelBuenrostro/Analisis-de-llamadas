{
 "cells": [
  {
   "cell_type": "markdown",
   "metadata": {},
   "source": [
    "# Convertir dialogo en texto con Amazon Transcribe"
   ]
  },
  {
   "cell_type": "markdown",
   "metadata": {},
   "source": [
    "## Prerequisitos"
   ]
  },
  {
   "cell_type": "markdown",
   "metadata": {},
   "source": [
    "* Acceso a una cuenta AWS y algo de experiencia con con la consola AWS\n",
    "* Conocimiento en lenguajes como Javascript o Python"
   ]
  },
  {
   "cell_type": "markdown",
   "metadata": {},
   "source": [
    "## Proceso tipico de Transcribe"
   ]
  },
  {
   "cell_type": "markdown",
   "metadata": {},
   "source": [
    "Hay dos maneras de interactuar con Transcribe, puede ser via streaming o puede ser trabajo offline, ambos metodos se realizan con herramientas en la consola o con la API de AWS."
   ]
  },
  {
   "cell_type": "markdown",
   "metadata": {},
   "source": [
    "Un trabajo de transcripción es cuando los archivos de audio son subidos, procesados por un accionador preconfigurado y se entregan los resultados para consumo"
   ]
  },
  {
   "cell_type": "markdown",
   "metadata": {},
   "source": [
    "Las entrada y salidas de datos se realiza mediante un S3 bucket el cual es el servicio primario de AWS para almacenamiento y acceso a archivos."
   ]
  },
  {
   "cell_type": "markdown",
   "metadata": {},
   "source": [
    "## Vocabulario personalizado"
   ]
  },
  {
   "cell_type": "markdown",
   "metadata": {},
   "source": [
    "Un vocabulario personalizado es una lista de palabras especificas que quieres que Amazon Transcribe reconozca en tu entrada de audio. Estas pueden ser palabras y frases especificas del dominio como pueden ser terminologia medica o palabras que Amazon Transcribe no esta reconociendo correctamente."
   ]
  },
  {
   "cell_type": "markdown",
   "metadata": {},
   "source": [
    "## Identificacion de interlocutor"
   ]
  },
  {
   "cell_type": "markdown",
   "metadata": {},
   "source": [
    "Transcribe ahora tiene la funcionalidad de identificar a cada persona hablando y separar la transcripcion final en cada participante en la conversacion con capacidad de hasta 10 personas diferentes en un solo trabajo de Transcripcion."
   ]
  },
  {
   "cell_type": "markdown",
   "metadata": {},
   "source": [
    "## Crear y correr un trabajo de transcripcion"
   ]
  },
  {
   "cell_type": "markdown",
   "metadata": {},
   "source": [
    "* Crear un bucket S3\n",
    "* Subir el archivo a S3\n",
    "* Comenzar el trabajo de Transcripcion\n",
    "* Ver resultados\n",
    "* Agregar un vocabulario personalizado con las palabra que no identifico correctamente\n",
    "* Correr el trabajo de nuevo\n",
    "* Revisar los nuevos resultados"
   ]
  }
 ],
 "metadata": {
  "kernelspec": {
   "display_name": "Python 3",
   "language": "python",
   "name": "python3"
  },
  "language_info": {
   "codemirror_mode": {
    "name": "ipython",
    "version": 3
   },
   "file_extension": ".py",
   "mimetype": "text/x-python",
   "name": "python",
   "nbconvert_exporter": "python",
   "pygments_lexer": "ipython3",
   "version": "3.8.2"
  }
 },
 "nbformat": 4,
 "nbformat_minor": 4
}
